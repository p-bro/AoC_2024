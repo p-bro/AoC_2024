{
 "cells": [
  {
   "cell_type": "code",
   "execution_count": 1,
   "metadata": {},
   "outputs": [],
   "source": [
    "import numpy as np"
   ]
  },
  {
   "cell_type": "code",
   "execution_count": 34,
   "metadata": {},
   "outputs": [
    {
     "name": "stdout",
     "output_type": "stream",
     "text": [
      "50 50\n"
     ]
    }
   ],
   "source": [
    "area=[]\n",
    "linecount = 0\n",
    "with open('input_08.txt') as f:\n",
    "    for line in f:\n",
    "        area.append(list(line.strip()))\n",
    "maparr=np.array(area)\n",
    "dimx=maparr.shape[0]\n",
    "dimy=maparr.shape[1]\n",
    "print(dimx,dimy)"
   ]
  },
  {
   "cell_type": "code",
   "execution_count": 35,
   "metadata": {},
   "outputs": [
    {
     "name": "stdout",
     "output_type": "stream",
     "text": [
      "['0' '1' '2' '3' '4' '5' '6' '7' '8' '9' 'A' 'B' 'D' 'E' 'F' 'G' 'H' 'I'\n",
      " 'J' 'K' 'P' 'Q' 'R' 'S' 'T' 'U' 'Y' 'Z' 'a' 'b' 'd' 'e' 'f' 'g' 'h' 'i'\n",
      " 'j' 'k' 'p' 'q' 'r' 's' 't' 'u' 'y' 'z']\n"
     ]
    }
   ],
   "source": [
    "#Find unique entries\n",
    "uniq=np.unique(maparr)\n",
    "uniq=np.delete(uniq,(np.where((uniq==\".\"))))\n",
    "print(uniq)"
   ]
  },
  {
   "cell_type": "code",
   "execution_count": 36,
   "metadata": {},
   "outputs": [
    {
     "name": "stdout",
     "output_type": "stream",
     "text": [
      "4\n",
      "3\n",
      "4\n",
      "4\n",
      "4\n",
      "4\n",
      "4\n",
      "3\n",
      "3\n",
      "4\n",
      "3\n",
      "4\n",
      "4\n",
      "4\n",
      "4\n",
      "4\n",
      "4\n",
      "4\n",
      "4\n",
      "4\n",
      "4\n",
      "4\n",
      "4\n",
      "4\n",
      "4\n",
      "4\n",
      "4\n",
      "4\n",
      "4\n",
      "3\n",
      "4\n",
      "3\n",
      "2\n",
      "4\n",
      "4\n",
      "4\n",
      "3\n",
      "4\n",
      "4\n",
      "3\n",
      "4\n",
      "4\n",
      "4\n",
      "4\n",
      "4\n",
      "3\n",
      "303\n"
     ]
    }
   ],
   "source": [
    "an=np.zeros_like(maparr,dtype=int)\n",
    "for channel in uniq:\n",
    "    [stationsx,stationsy]=np.where(maparr==channel)\n",
    "    stations=np.array([stationsx,stationsy]).transpose()\n",
    "    print(stations.shape[0])\n",
    "    for i in range(stations.shape[0]):\n",
    "        for j in range(i+1,stations.shape[0]):\n",
    "            diff=stations[i,:]-stations[j,:]\n",
    "            fw=stations[i,:]+diff\n",
    "            bw=stations[j,:]-diff\n",
    "            if fw[0]>=0 and fw[1]>=0 and fw[0]<dimx and fw[1]<dimy:\n",
    "                an[fw[0],fw[1]]=1\n",
    "            if bw[0]>=0 and bw[1]>=0 and bw[0]<dimx and bw[1]<dimy:\n",
    "                an[bw[0],bw[1]]=1\n",
    "print(np.sum(an))            "
   ]
  },
  {
   "cell_type": "code",
   "execution_count": 37,
   "metadata": {},
   "outputs": [
    {
     "name": "stdout",
     "output_type": "stream",
     "text": [
      "4\n",
      "3\n",
      "4\n",
      "4\n",
      "4\n",
      "4\n",
      "4\n",
      "3\n",
      "3\n",
      "4\n",
      "3\n",
      "4\n",
      "4\n",
      "4\n",
      "4\n",
      "4\n",
      "4\n",
      "4\n",
      "4\n",
      "4\n",
      "4\n",
      "4\n",
      "4\n",
      "4\n",
      "4\n",
      "4\n",
      "4\n",
      "4\n",
      "4\n",
      "3\n",
      "4\n",
      "3\n",
      "2\n",
      "4\n",
      "4\n",
      "4\n",
      "3\n",
      "4\n",
      "4\n",
      "3\n",
      "4\n",
      "4\n",
      "4\n",
      "4\n",
      "4\n",
      "3\n",
      "1045\n"
     ]
    }
   ],
   "source": [
    "#part b\n",
    "an=np.zeros_like(maparr,dtype=int)\n",
    "for channel in uniq:\n",
    "    [stationsx,stationsy]=np.where(maparr==channel)\n",
    "    stations=np.array([stationsx,stationsy]).transpose()\n",
    "    print(stations.shape[0])\n",
    "    for i in range(stations.shape[0]):\n",
    "        for j in range(i+1,stations.shape[0]):\n",
    "            diff=stations[i,:]-stations[j,:]\n",
    "            diff=diff//np.gcd(diff[0],diff[1])\n",
    "            for k in range(0,max(dimx,dimy)):\n",
    "                fw=stations[i,:]+k*diff\n",
    "                if fw[0]>=0 and fw[1]>=0 and fw[0]<dimx and fw[1]<dimy:\n",
    "                    an[fw[0],fw[1]]=1\n",
    "                else:\n",
    "                    break\n",
    "            for k in range(0,max(dimx,dimy)): \n",
    "                bw=stations[j,:]-k*diff\n",
    "                if bw[0]>=0 and bw[1]>=0 and bw[0]<dimx and bw[1]<dimy:\n",
    "                    an[bw[0],bw[1]]=1\n",
    "                else:\n",
    "                    break\n",
    "print(np.sum(an))            "
   ]
  },
  {
   "cell_type": "code",
   "execution_count": null,
   "metadata": {},
   "outputs": [],
   "source": []
  }
 ],
 "metadata": {
  "kernelspec": {
   "display_name": "Python 3",
   "language": "python",
   "name": "python3"
  },
  "language_info": {
   "codemirror_mode": {
    "name": "ipython",
    "version": 3
   },
   "file_extension": ".py",
   "mimetype": "text/x-python",
   "name": "python",
   "nbconvert_exporter": "python",
   "pygments_lexer": "ipython3",
   "version": "3.12.7"
  }
 },
 "nbformat": 4,
 "nbformat_minor": 2
}
