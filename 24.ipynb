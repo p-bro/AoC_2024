{
 "cells": [
  {
   "cell_type": "code",
   "execution_count": 1,
   "metadata": {},
   "outputs": [],
   "source": [
    "import numpy as np\n",
    "import re"
   ]
  },
  {
   "cell_type": "code",
   "execution_count": 13,
   "metadata": {},
   "outputs": [],
   "source": [
    "# Define AND operation function\n",
    "def AND(a, b):\n",
    "    return a&b\n",
    "\n",
    "# Define OR operation function\n",
    "def OR(a, b):\n",
    "    return a | b\n",
    "\n",
    "# Define multiplication operation function\n",
    "def XOR(a, b):\n",
    "    return a ^ b\n",
    "operators=(AND,OR,XOR)"
   ]
  },
  {
   "cell_type": "code",
   "execution_count": 38,
   "metadata": {},
   "outputs": [
    {
     "name": "stdout",
     "output_type": "stream",
     "text": [
      "y44\n",
      "[['nsg', 'sdh', 0, 'nbq'], ['nhs', 'qvh', 2, 'z21'], ['htr', 'kdm', 1, 'vkt'], ['dvb', 'wtv', 1, 'cdm'], ['x37', 'y37', 0, 'jdk'], ['y27', 'x27', 0, 'snj'], ['cnp', 'ddh', 1, 'pjt'], ['fvp', 'kgr', 0, 'vbr'], ['fvd', 'rpm', 1, 'srq'], ['y08', 'x08', 0, 'pvm'], ['y43', 'x43', 0, 'nhq'], ['vrk', 'hmt', 1, 'tpv'], ['y18', 'x18', 0, 'kdm'], ['x27', 'y27', 2, 'nhh'], ['jmc', 'qkk', 2, 'z29'], ['x01', 'y01', 0, 'hqh'], ['y36', 'x36', 0, 'hsc'], ['y43', 'x43', 2, 'wjf'], ['x26', 'y26', 0, 'dvb'], ['y31', 'x31', 0, 'mds'], ['qkk', 'jmc', 0, 'hnj'], ['wjt', 'ftt', 0, 'htr'], ['x40', 'y40', 2, 'bwc'], ['x42', 'y42', 0, 'tbp'], ['x34', 'y34', 0, 'tgb'], ['nqg', 'hbn', 0, 'wqc'], ['hkt', 'sms', 1, 'fqk'], ['x04', 'y04', 0, 'cjg'], ['cfd', 'cqd', 2, 'z28'], ['jpp', 'tpv', 0, 'vqk'], ['x17', 'y17', 0, 'ppw'], ['tvs', 'mkh', 2, 'z31'], ['cqw', 'wtc', 1, 'dnp'], ['y21', 'x21', 2, 'qvh'], ['y24', 'x24', 0, 'bvn'], ['y32', 'x32', 2, 'cwr'], ['hsp', 'qnp', 0, 'dds'], ['x03', 'y03', 2, 'vng'], ['hvg', 'gtg', 2, 'z10'], ['hpm', 'nhq', 1, 'kkt'], ['cwn', 'pmt', 2, 'z07'], ['y12', 'x12', 2, 'nsg'], ['cnv', 'jsj', 0, 'ddh'], ['srq', 'sdr', 0, 'dpm'], ['ktj', 'dmh', 2, 'z38'], ['tcv', 'gqh', 0, 'cdk'], ['y13', 'x13', 0, 'bfw'], ['ptt', 'bvn', 1, 'nnw'], ['x01', 'y01', 2, 'nmk'], ['vnn', 'qjh', 2, 'z14'], ['y39', 'x39', 0, 'sms'], ['y07', 'x07', 0, 'tcb'], ['x23', 'y23', 2, 'cnv'], ['nqg', 'hbn', 2, 'z08'], ['ppp', 'pjt', 0, 'ptt'], ['ngc', 'sdt', 0, 'rbk'], ['hsp', 'qnp', 2, 'z15'], ['y07', 'x07', 2, 'cwn'], ['x17', 'y17', 2, 'mhm'], ['y12', 'x12', 0, 'qjf'], ['ssq', 'skd', 0, 'nqw'], ['y24', 'x24', 2, 'ppp'], ['x34', 'y34', 2, 'bmh'], ['x15', 'y15', 0, 'btb'], ['cmd', 'pfk', 0, 'cqw'], ['scb', 'dnp', 2, 'z36'], ['mmr', 'cgr', 0, 'vrk'], ['cdk', 'rmn', 1, 'z20'], ['x44', 'y44', 2, 'cbq'], ['nnf', 'vbr', 1, 'hvg'], ['nnw', 'qnd', 2, 'z25'], ['y05', 'x05', 2, 'cgr'], ['y37', 'x37', 2, 'vnh'], ['jmp', 'nqw', 1, 'vnw'], ['y20', 'x20', 0, 'rmn'], ['y44', 'x44', 0, 'rqv'], ['bjm', 'vkt', 0, 'wtr'], ['x29', 'y29', 0, 'ddt'], ['kbj', 'nsd', 2, 'z13'], ['nss', 'vjd', 1, 'vss'], ['hjp', 'mhm', 2, 'z17'], ['y35', 'x35', 0, 'wtc'], ['x02', 'y02', 2, 'ssq'], ['fnk', 'cwr', 2, 'z32'], ['jsj', 'cnv', 2, 'z23'], ['rtw', 'wpq', 2, 'z11'], ['x22', 'y22', 0, 'gwt'], ['vng', 'vnw', 2, 'z03'], ['vnn', 'qjh', 0, 'fgv'], ['kwf', 'nbh', 1, 'sdh'], ['y11', 'x11', 2, 'rtw'], ['kbv', 'bfc', 2, 'z42'], ['x29', 'y29', 2, 'qkk'], ['hnj', 'ddt', 1, 'fmn'], ['wjf', 'dcd', 0, 'hpm'], ['ddr', 'wkn', 2, 'z16'], ['krm', 'vdc', 0, 'svv'], ['wjf', 'dcd', 2, 'z43'], ['y26', 'x26', 2, 'cpg'], ['y40', 'x40', 0, 'rpm'], ['qnd', 'nnw', 0, 'gnv'], ['x33', 'y33', 2, 'ngc'], ['y06', 'x06', 0, 'kgh'], ['nhh', 'cdm', 0, 'vmf'], ['y33', 'x33', 0, 'mdv'], ['tcb', 'fgg', 1, 'nqg'], ['sdt', 'ngc', 2, 'z33'], ['y28', 'x28', 2, 'cqd'], ['vmf', 'snj', 1, 'cfd'], ['nmk', 'dsr', 0, 'qrt'], ['y18', 'x18', 2, 'ftt'], ['y19', 'x19', 2, 'bjm'], ['x19', 'y19', 0, 'rwr'], ['x00', 'y00', 2, 'z00'], ['bwc', 'fqk', 2, 'z40'], ['y31', 'x31', 2, 'tvs'], ['ktj', 'dmh', 0, 'msm'], ['nhh', 'cdm', 2, 'z27'], ['vng', 'vnw', 0, 'fcg'], ['wrc', 'tgb', 1, 'pfk'], ['mds', 'cmn', 1, 'fnk'], ['mmr', 'cgr', 2, 'z05'], ['pjj', 'wvn', 1, 'wpq'], ['mtq', 'vnh', 0, 'jtf'], ['hsc', 'dpq', 1, 'mtq'], ['x42', 'y42', 2, 'kbv'], ['y30', 'x30', 2, 'ddn'], ['scb', 'dnp', 0, 'dpq'], ['y09', 'x09', 2, 'fvp'], ['x20', 'y20', 2, 'gqh'], ['bss', 'fch', 2, 'z39'], ['x28', 'y28', 0, 'dgj'], ['y41', 'x41', 0, 'pqq'], ['vss', 'wnq', 0, 'tjq'], ['cfd', 'cqd', 0, 'pht'], ['tbp', 'tts', 1, 'dcd'], ['bfc', 'kbv', 0, 'tts'], ['wnq', 'vss', 2, 'z22'], ['bmh', 'spk', 0, 'z34'], ['dpm', 'pqq', 1, 'bfc'], ['hjp', 'mhm', 0, 'jqs'], ['srq', 'sdr', 2, 'z41'], ['jhb', 'fgv', 1, 'hsp'], ['gqt', 'gnv', 1, 'rvb'], ['y39', 'x39', 2, 'bss'], ['y05', 'x05', 0, 'hmt'], ['gtg', 'hvg', 0, 'wvn'], ['y02', 'x02', 0, 'jmp'], ['svv', 'cjg', 1, 'mmr'], ['pfk', 'cmd', 2, 'z35'], ['krm', 'vdc', 2, 'z04'], ['x15', 'y15', 2, 'qnp'], ['kkt', 'cbq', 2, 'z44'], ['y10', 'x10', 2, 'gtg'], ['vqk', 'kgh', 1, 'pmt'], ['kbj', 'nsd', 0, 'hdc'], ['mkh', 'tvs', 0, 'cmn'], ['fmn', 'kqh', 2, 'z30'], ['ppw', 'jqs', 1, 'wjt'], ['wtr', 'rwr', 1, 'tcv'], ['jpp', 'tpv', 2, 'z06'], ['y36', 'x36', 2, 'scb'], ['nhs', 'qvh', 0, 'vjd'], ['x03', 'y03', 0, 'qds'], ['y21', 'x21', 0, 'nss'], ['x04', 'y04', 2, 'krm'], ['bjm', 'vkt', 2, 'z19'], ['x25', 'y25', 0, 'gqt'], ['rtw', 'wpq', 0, 'nbh'], ['cwn', 'pmt', 0, 'fgg'], ['x23', 'y23', 0, 'cnp'], ['y25', 'x25', 2, 'qnd'], ['vnh', 'mtq', 2, 'z37'], ['nmk', 'dsr', 2, 'z01'], ['dds', 'btb', 1, 'ddr'], ['dnw', 'dtt', 1, 'sdt'], ['y35', 'x35', 2, 'cmd'], ['y38', 'x38', 2, 'dmh'], ['y08', 'x08', 2, 'hbn'], ['x16', 'y16', 2, 'wkn'], ['dtk', 'ddn', 1, 'mkh'], ['pht', 'dgj', 1, 'jmc'], ['kgr', 'fvp', 2, 'nnf'], ['y06', 'x06', 2, 'jpp'], ['pjt', 'ppp', 2, 'z24'], ['skd', 'ssq', 2, 'z02'], ['x14', 'y14', 2, 'qjh'], ['x30', 'y30', 0, 'kqh'], ['x00', 'y00', 0, 'dsr'], ['rvb', 'cpg', 0, 'wtv'], ['y16', 'x16', 0, 'qsd'], ['x13', 'y13', 2, 'nsd'], ['nbq', 'qjf', 1, 'kbj'], ['kqh', 'fmn', 0, 'dtk'], ['spk', 'bmh', 2, 'wrc'], ['ddr', 'wkn', 0, 'jsv'], ['y11', 'x11', 0, 'kwf'], ['y38', 'x38', 0, 'gcn'], ['gqh', 'tcv', 2, 'nhs'], ['y41', 'x41', 2, 'sdr'], ['y14', 'x14', 0, 'jhb'], ['hqh', 'qrt', 1, 'skd'], ['rbk', 'mdv', 1, 'spk'], ['bss', 'fch', 0, 'hkt'], ['jtf', 'jdk', 1, 'ktj'], ['bwc', 'fqk', 0, 'fvd'], ['cbq', 'kkt', 0, 'cdh'], ['hdc', 'bfw', 1, 'vnn'], ['y09', 'x09', 0, 'z09'], ['rvb', 'cpg', 2, 'z26'], ['qds', 'fcg', 1, 'vdc'], ['wqc', 'pvm', 1, 'kgr'], ['jsv', 'qsd', 1, 'hjp'], ['cdh', 'rqv', 1, 'z45'], ['tjq', 'gwt', 1, 'jsj'], ['msm', 'gcn', 1, 'fch'], ['sdh', 'nsg', 2, 'z12'], ['y10', 'x10', 0, 'pjj'], ['cwr', 'fnk', 0, 'dtt'], ['y22', 'x22', 2, 'wnq'], ['wjt', 'ftt', 2, 'z18'], ['y32', 'x32', 0, 'dnw']]\n",
      "{'x00': 1, 'x01': 0, 'x02': 0, 'x03': 1, 'x04': 1, 'x05': 1, 'x06': 0, 'x07': 0, 'x08': 0, 'x09': 1, 'x10': 0, 'x11': 0, 'x12': 0, 'x13': 1, 'x14': 1, 'x15': 1, 'x16': 0, 'x17': 0, 'x18': 0, 'x19': 1, 'x20': 0, 'x21': 1, 'x22': 0, 'x23': 1, 'x24': 1, 'x25': 0, 'x26': 1, 'x27': 1, 'x28': 1, 'x29': 0, 'x30': 0, 'x31': 0, 'x32': 0, 'x33': 0, 'x34': 0, 'x35': 1, 'x36': 0, 'x37': 1, 'x38': 1, 'x39': 0, 'x40': 1, 'x41': 0, 'x42': 0, 'x43': 0, 'x44': 1, 'y00': 1, 'y01': 1, 'y02': 1, 'y03': 1, 'y04': 0, 'y05': 1, 'y06': 0, 'y07': 1, 'y08': 0, 'y09': 1, 'y10': 1, 'y11': 1, 'y12': 1, 'y13': 0, 'y14': 1, 'y15': 0, 'y16': 0, 'y17': 0, 'y18': 1, 'y19': 1, 'y20': 0, 'y21': 0, 'y22': 1, 'y23': 0, 'y24': 0, 'y25': 1, 'y26': 0, 'y27': 1, 'y28': 0, 'y29': 0, 'y30': 0, 'y31': 1, 'y32': 1, 'y33': 1, 'y34': 1, 'y35': 0, 'y36': 1, 'y37': 1, 'y38': 1, 'y39': 1, 'y40': 0, 'y41': 1, 'y42': 0, 'y43': 1, 'y44': 1, 'nsg': -1, 'sdh': -1, 'nbq': -1, 'nhs': -1, 'qvh': -1, 'z21': -1, 'htr': -1, 'kdm': -1, 'vkt': -1, 'dvb': -1, 'wtv': -1, 'cdm': -1, 'jdk': -1, 'snj': -1, 'cnp': -1, 'ddh': -1, 'pjt': -1, 'fvp': -1, 'kgr': -1, 'vbr': -1, 'fvd': -1, 'rpm': -1, 'srq': -1, 'pvm': -1, 'nhq': -1, 'vrk': -1, 'hmt': -1, 'tpv': -1, 'nhh': -1, 'jmc': -1, 'qkk': -1, 'z29': -1, 'hqh': -1, 'hsc': -1, 'wjf': -1, 'mds': -1, 'hnj': -1, 'wjt': -1, 'ftt': -1, 'bwc': -1, 'tbp': -1, 'tgb': -1, 'nqg': -1, 'hbn': -1, 'wqc': -1, 'hkt': -1, 'sms': -1, 'fqk': -1, 'cjg': -1, 'cfd': -1, 'cqd': -1, 'z28': -1, 'jpp': -1, 'vqk': -1, 'ppw': -1, 'tvs': -1, 'mkh': -1, 'z31': -1, 'cqw': -1, 'wtc': -1, 'dnp': -1, 'bvn': -1, 'cwr': -1, 'hsp': -1, 'qnp': -1, 'dds': -1, 'vng': -1, 'hvg': -1, 'gtg': -1, 'z10': -1, 'hpm': -1, 'kkt': -1, 'cwn': -1, 'pmt': -1, 'z07': -1, 'cnv': -1, 'jsj': -1, 'sdr': -1, 'dpm': -1, 'ktj': -1, 'dmh': -1, 'z38': -1, 'tcv': -1, 'gqh': -1, 'cdk': -1, 'bfw': -1, 'ptt': -1, 'nnw': -1, 'nmk': -1, 'vnn': -1, 'qjh': -1, 'z14': -1, 'tcb': -1, 'z08': -1, 'ppp': -1, 'ngc': -1, 'sdt': -1, 'rbk': -1, 'z15': -1, 'mhm': -1, 'qjf': -1, 'ssq': -1, 'skd': -1, 'nqw': -1, 'bmh': -1, 'btb': -1, 'cmd': -1, 'pfk': -1, 'scb': -1, 'z36': -1, 'mmr': -1, 'cgr': -1, 'rmn': -1, 'z20': -1, 'cbq': -1, 'nnf': -1, 'qnd': -1, 'z25': -1, 'vnh': -1, 'jmp': -1, 'vnw': -1, 'rqv': -1, 'bjm': -1, 'wtr': -1, 'ddt': -1, 'kbj': -1, 'nsd': -1, 'z13': -1, 'nss': -1, 'vjd': -1, 'vss': -1, 'hjp': -1, 'z17': -1, 'fnk': -1, 'z32': -1, 'z23': -1, 'rtw': -1, 'wpq': -1, 'z11': -1, 'gwt': -1, 'z03': -1, 'fgv': -1, 'kwf': -1, 'nbh': -1, 'kbv': -1, 'bfc': -1, 'z42': -1, 'fmn': -1, 'dcd': -1, 'ddr': -1, 'wkn': -1, 'z16': -1, 'krm': -1, 'vdc': -1, 'svv': -1, 'z43': -1, 'cpg': -1, 'gnv': -1, 'kgh': -1, 'vmf': -1, 'mdv': -1, 'fgg': -1, 'z33': -1, 'dsr': -1, 'qrt': -1, 'rwr': -1, 'z00': -1, 'z40': -1, 'msm': -1, 'z27': -1, 'fcg': -1, 'wrc': -1, 'cmn': -1, 'z05': -1, 'pjj': -1, 'wvn': -1, 'mtq': -1, 'jtf': -1, 'dpq': -1, 'ddn': -1, 'bss': -1, 'fch': -1, 'z39': -1, 'dgj': -1, 'pqq': -1, 'wnq': -1, 'tjq': -1, 'pht': -1, 'tts': -1, 'z22': -1, 'spk': -1, 'z34': -1, 'jqs': -1, 'z41': -1, 'jhb': -1, 'gqt': -1, 'rvb': -1, 'z35': -1, 'z04': -1, 'z44': -1, 'hdc': -1, 'kqh': -1, 'z30': -1, 'z06': -1, 'qds': -1, 'z19': -1, 'z37': -1, 'z01': -1, 'dnw': -1, 'dtt': -1, 'dtk': -1, 'z24': -1, 'z02': -1, 'qsd': -1, 'jsv': -1, 'gcn': -1, 'cdh': -1, 'z09': -1, 'z26': -1, 'z45': -1, 'z12': -1, 'z18': -1}\n"
     ]
    }
   ],
   "source": [
    "inputs={}\n",
    "gates=[]\n",
    "with open('input_24.txt') as f:\n",
    "    for line in f:\n",
    "        if len(line)<2: #blank lines separate rules from updates\n",
    "            break\n",
    "        m=re.match('([a-z0-9]+): ([a-z0-9]+)',line)\n",
    "        inputs[m.group(1)]=int(m.group(2))\n",
    "    for line in f:\n",
    "        m=re.match('([a-z0-9]+) ([A-Z]+) ([a-z0-9]+) -> ([a-z0-9]+)',line)\n",
    "        match m.group(2):\n",
    "            case 'AND':\n",
    "                op=0\n",
    "            case 'OR': \n",
    "                op=1\n",
    "            case 'XOR':\n",
    "                op=2\n",
    "            case _:\n",
    "                raise ValueError('Illegal operation',m.group(2))\n",
    "        gates.append([m.group(1),m.group(3),op,m.group(4)])\n",
    "wires={}\n",
    "for input in inputs:\n",
    "    if not input in wires:\n",
    "        wires[input]=inputs[input]\n",
    "for gate in gates:\n",
    "    if not gate[0] in wires:\n",
    "        wires[gate[0]]=-1\n",
    "    if not gate[1] in wires:\n",
    "        wires[gate[1]]=-1\n",
    "    if not gate[3] in wires:\n",
    "        wires[gate[3]]=-1\n",
    "print(input)\n",
    "print(gates)\n",
    "print(wires)\n"
   ]
  },
  {
   "cell_type": "code",
   "execution_count": 39,
   "metadata": {},
   "outputs": [
    {
     "name": "stdout",
     "output_type": "stream",
     "text": [
      "{'x00': 1, 'x01': 0, 'x02': 0, 'x03': 1, 'x04': 1, 'x05': 1, 'x06': 0, 'x07': 0, 'x08': 0, 'x09': 1, 'x10': 0, 'x11': 0, 'x12': 0, 'x13': 1, 'x14': 1, 'x15': 1, 'x16': 0, 'x17': 0, 'x18': 0, 'x19': 1, 'x20': 0, 'x21': 1, 'x22': 0, 'x23': 1, 'x24': 1, 'x25': 0, 'x26': 1, 'x27': 1, 'x28': 1, 'x29': 0, 'x30': 0, 'x31': 0, 'x32': 0, 'x33': 0, 'x34': 0, 'x35': 1, 'x36': 0, 'x37': 1, 'x38': 1, 'x39': 0, 'x40': 1, 'x41': 0, 'x42': 0, 'x43': 0, 'x44': 1, 'y00': 1, 'y01': 1, 'y02': 1, 'y03': 1, 'y04': 0, 'y05': 1, 'y06': 0, 'y07': 1, 'y08': 0, 'y09': 1, 'y10': 1, 'y11': 1, 'y12': 1, 'y13': 0, 'y14': 1, 'y15': 0, 'y16': 0, 'y17': 0, 'y18': 1, 'y19': 1, 'y20': 0, 'y21': 0, 'y22': 1, 'y23': 0, 'y24': 0, 'y25': 1, 'y26': 0, 'y27': 1, 'y28': 0, 'y29': 0, 'y30': 0, 'y31': 1, 'y32': 1, 'y33': 1, 'y34': 1, 'y35': 0, 'y36': 1, 'y37': 1, 'y38': 1, 'y39': 1, 'y40': 0, 'y41': 1, 'y42': 0, 'y43': 1, 'y44': 1, 'nsg': 1, 'sdh': 0, 'nbq': 0, 'nhs': 1, 'qvh': 1, 'z21': 0, 'htr': 0, 'kdm': 0, 'vkt': 0, 'dvb': 0, 'wtv': 1, 'cdm': 1, 'jdk': 1, 'snj': 1, 'cnp': 0, 'ddh': 1, 'pjt': 1, 'fvp': 0, 'kgr': 0, 'vbr': 0, 'fvd': 1, 'rpm': 0, 'srq': 1, 'pvm': 0, 'nhq': 0, 'vrk': 0, 'hmt': 1, 'tpv': 1, 'nhh': 0, 'jmc': 1, 'qkk': 0, 'z29': 1, 'hqh': 0, 'hsc': 0, 'wjf': 1, 'mds': 0, 'hnj': 0, 'wjt': 0, 'ftt': 1, 'bwc': 1, 'tbp': 0, 'tgb': 0, 'nqg': 0, 'hbn': 0, 'wqc': 0, 'hkt': 1, 'sms': 0, 'fqk': 1, 'cjg': 0, 'cfd': 1, 'cqd': 1, 'z28': 0, 'jpp': 0, 'vqk': 0, 'ppw': 0, 'tvs': 1, 'mkh': 0, 'z31': 1, 'cqw': 1, 'wtc': 0, 'dnp': 1, 'bvn': 0, 'cwr': 1, 'hsp': 1, 'qnp': 1, 'dds': 1, 'vng': 0, 'hvg': 0, 'gtg': 1, 'z10': 1, 'hpm': 0, 'kkt': 0, 'cwn': 1, 'pmt': 0, 'z07': 1, 'cnv': 1, 'jsj': 1, 'sdr': 1, 'dpm': 1, 'ktj': 1, 'dmh': 0, 'z38': 1, 'tcv': 1, 'gqh': 0, 'cdk': 0, 'bfw': 0, 'ptt': 1, 'nnw': 1, 'nmk': 1, 'vnn': 0, 'qjh': 0, 'z14': 0, 'tcb': 0, 'z08': 0, 'ppp': 1, 'ngc': 1, 'sdt': 0, 'rbk': 0, 'z15': 0, 'mhm': 0, 'qjf': 0, 'ssq': 1, 'skd': 1, 'nqw': 1, 'bmh': 1, 'btb': 0, 'cmd': 1, 'pfk': 1, 'scb': 1, 'z36': 0, 'mmr': 1, 'cgr': 0, 'rmn': 0, 'z20': 0, 'cbq': 0, 'nnf': 0, 'qnd': 1, 'z25': 0, 'vnh': 0, 'jmp': 0, 'vnw': 1, 'rqv': 1, 'bjm': 0, 'wtr': 0, 'ddt': 0, 'kbj': 0, 'nsd': 1, 'z13': 1, 'nss': 0, 'vjd': 1, 'vss': 1, 'hjp': 0, 'z17': 0, 'fnk': 0, 'z32': 1, 'z23': 0, 'rtw': 1, 'wpq': 0, 'z11': 1, 'gwt': 0, 'z03': 1, 'fgv': 0, 'kwf': 0, 'nbh': 0, 'kbv': 0, 'bfc': 1, 'z42': 1, 'fmn': 0, 'dcd': 0, 'ddr': 1, 'wkn': 0, 'z16': 1, 'krm': 1, 'vdc': 1, 'svv': 1, 'z43': 1, 'cpg': 1, 'gnv': 1, 'kgh': 0, 'vmf': 0, 'mdv': 0, 'fgg': 0, 'z33': 1, 'dsr': 1, 'qrt': 1, 'rwr': 1, 'z00': 0, 'z40': 0, 'msm': 0, 'z27': 1, 'fcg': 0, 'wrc': 1, 'cmn': 0, 'z05': 1, 'pjj': 0, 'wvn': 0, 'mtq': 1, 'jtf': 0, 'dpq': 1, 'ddn': 0, 'bss': 1, 'fch': 1, 'z39': 0, 'dgj': 0, 'pqq': 0, 'wnq': 1, 'tjq': 1, 'pht': 1, 'tts': 0, 'z22': 0, 'spk': 0, 'z34': 0, 'jqs': 0, 'z41': 0, 'jhb': 1, 'gqt': 0, 'rvb': 1, 'z35': 0, 'z04': 0, 'z44': 0, 'hdc': 0, 'kqh': 0, 'z30': 0, 'z06': 1, 'qds': 1, 'z19': 0, 'z37': 1, 'z01': 0, 'dnw': 0, 'dtt': 0, 'dtk': 0, 'z24': 0, 'z02': 0, 'qsd': 0, 'jsv': 0, 'gcn': 1, 'cdh': 0, 'z09': 1, 'z26': 0, 'z45': 1, 'z12': 1, 'z18': 1}\n"
     ]
    }
   ],
   "source": [
    "active_gates=gates.copy()\n",
    "while len(active_gates):\n",
    "    for gatenum,gate in enumerate(active_gates):\n",
    "        if wires[gate[0]]!=-1 and wires[gate[1]]!=-1:\n",
    "            wires[gate[3]]=operators[gate[2]](wires[gate[0]],wires[gate[1]])\n",
    "            active_gates.pop(gatenum)\n",
    "print(wires)"
   ]
  },
  {
   "cell_type": "code",
   "execution_count": 40,
   "metadata": {},
   "outputs": [
    {
     "name": "stdout",
     "output_type": "stream",
     "text": [
      "48806532300520\n"
     ]
    }
   ],
   "source": [
    "outwires=np.sort(np.array([wire for wire in wires if wire[0]=='z']))\n",
    "output=0\n",
    "for wire in outwires:\n",
    "    power=int(wire[1:])\n",
    "    output=output+ wires[wire]*(2 ** power)\n",
    "print(output)"
   ]
  },
  {
   "cell_type": "code",
   "execution_count": null,
   "metadata": {},
   "outputs": [],
   "source": []
  }
 ],
 "metadata": {
  "kernelspec": {
   "display_name": "Python 3",
   "language": "python",
   "name": "python3"
  },
  "language_info": {
   "codemirror_mode": {
    "name": "ipython",
    "version": 3
   },
   "file_extension": ".py",
   "mimetype": "text/x-python",
   "name": "python",
   "nbconvert_exporter": "python",
   "pygments_lexer": "ipython3",
   "version": "3.12.8"
  }
 },
 "nbformat": 4,
 "nbformat_minor": 2
}
