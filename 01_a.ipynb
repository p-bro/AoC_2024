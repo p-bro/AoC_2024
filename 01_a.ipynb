{
 "cells": [
  {
   "cell_type": "code",
   "execution_count": 1,
   "metadata": {},
   "outputs": [],
   "source": [
    "import numpy as np\n",
    "import pandas as pd"
   ]
  },
  {
   "cell_type": "code",
   "execution_count": 4,
   "metadata": {},
   "outputs": [
    {
     "name": "stdout",
     "output_type": "stream",
     "text": [
      "(1000, 2)\n"
     ]
    }
   ],
   "source": [
    "df = pd.read_fwf(\"input_1.txt\",widths=[5,8],names=['col1','col2'])\n",
    "print(df.shape)"
   ]
  },
  {
   "cell_type": "code",
   "execution_count": 15,
   "metadata": {},
   "outputs": [],
   "source": [
    "array1=np.array(df['col1'])\n",
    "array2=np.array(df['col2'])\n",
    "array1=np.sort(array1)\n",
    "array2=np.sort(array2)"
   ]
  },
  {
   "cell_type": "code",
   "execution_count": 19,
   "metadata": {},
   "outputs": [
    {
     "name": "stdout",
     "output_type": "stream",
     "text": [
      "3574690\n"
     ]
    }
   ],
   "source": [
    "distance=0\n",
    "for i in range(array1.size):\n",
    "    distance += np.abs(array1[i]-array2[i])\n",
    "print(distance)"
   ]
  },
  {
   "cell_type": "code",
   "execution_count": 23,
   "metadata": {},
   "outputs": [
    {
     "name": "stdout",
     "output_type": "stream",
     "text": [
      "22565391\n"
     ]
    }
   ],
   "source": [
    "simscore = 0\n",
    "#unique,counts=np.unique(array2,return_counts=True)\n",
    "#uniques=dict(zip(unique, counts))\n",
    "for i in range(array1.size):\n",
    "    simscore += (array2==array1[i]).sum()*array1[i]\n",
    "print(simscore)"
   ]
  },
  {
   "cell_type": "code",
   "execution_count": null,
   "metadata": {},
   "outputs": [],
   "source": []
  }
 ],
 "metadata": {
  "kernelspec": {
   "display_name": "Python 3",
   "language": "python",
   "name": "python3"
  },
  "language_info": {
   "codemirror_mode": {
    "name": "ipython",
    "version": 3
   },
   "file_extension": ".py",
   "mimetype": "text/x-python",
   "name": "python",
   "nbconvert_exporter": "python",
   "pygments_lexer": "ipython3",
   "version": "3.12.7"
  }
 },
 "nbformat": 4,
 "nbformat_minor": 2
}
