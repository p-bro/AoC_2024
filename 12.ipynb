{
 "cells": [
  {
   "cell_type": "code",
   "execution_count": 47,
   "metadata": {},
   "outputs": [],
   "source": [
    "import numpy as np\n",
    "from collections import Counter\n",
    "directions=np.array([[1,0],[0,1],[-1,0],[0,-1]])"
   ]
  },
  {
   "cell_type": "code",
   "execution_count": 54,
   "metadata": {},
   "outputs": [
    {
     "name": "stdout",
     "output_type": "stream",
     "text": [
      "4 4 [['A' 'A' 'A' 'A']\n",
      " ['B' 'B' 'C' 'D']\n",
      " ['B' 'B' 'C' 'C']\n",
      " ['E' 'E' 'E' 'C']]\n"
     ]
    }
   ],
   "source": [
    "area=[]\n",
    "linecount = 0\n",
    "with open('test_12a.txt') as f:\n",
    "    for line in f:\n",
    "        area.append(list(line.strip()))\n",
    "maparr=np.array(area)\n",
    "dimx=maparr.shape[0]\n",
    "dimy=maparr.shape[1]\n",
    "print(dimx,dimy,maparr)\n"
   ]
  },
  {
   "cell_type": "code",
   "execution_count": 55,
   "metadata": {},
   "outputs": [
    {
     "name": "stdout",
     "output_type": "stream",
     "text": [
      "new field 1  crop A\n",
      "Burn from [0 0]\n",
      "Trying [1 0] B 0\n",
      "Trying [0 1] A 0\n",
      "Found  0 1\n",
      "Burning [[0 1]]\n",
      "Burn from [0 1]\n",
      "Trying [1 1] B 0\n",
      "Trying [0 2] A 0\n",
      "Found  0 2\n",
      "Trying [0 0] A 1\n",
      "Burning [[0 2]]\n",
      "Burn from [0 2]\n",
      "Trying [1 2] C 0\n",
      "Trying [0 3] A 0\n",
      "Found  0 3\n",
      "Trying [0 1] A 1\n",
      "Burning [[0 3]]\n",
      "Burn from [0 3]\n",
      "Trying [1 3] D 0\n",
      "Trying [0 2] A 1\n",
      "Burning []\n",
      "new field 2  crop B\n",
      "Burn from [1 0]\n",
      "Trying [2 0] B 0\n",
      "Found  2 0\n",
      "Trying [1 1] B 0\n",
      "Found  1 1\n",
      "Trying [0 0] A 1\n",
      "Burning [[2 0]\n",
      " [1 1]]\n",
      "Burn from [2 0]\n",
      "Trying [3 0] E 0\n",
      "Trying [2 1] B 0\n",
      "Found  2 1\n",
      "Trying [1 0] B 1\n",
      "Burn from [1 1]\n",
      "Trying [2 1] B 1\n",
      "Trying [1 2] C 0\n",
      "Trying [0 1] A 1\n",
      "Trying [1 0] B 1\n",
      "Burning [[2 1]]\n",
      "Burn from [2 1]\n",
      "Trying [3 1] E 0\n",
      "Trying [2 2] C 0\n",
      "Trying [1 1] B 1\n",
      "Trying [2 0] B 1\n",
      "Burning []\n",
      "new field 3  crop C\n",
      "Burn from [1 2]\n",
      "Trying [2 2] C 0\n",
      "Found  2 2\n",
      "Trying [1 3] D 0\n",
      "Trying [0 2] A 1\n",
      "Trying [1 1] B 1\n",
      "Burning [[2 2]]\n",
      "Burn from [2 2]\n",
      "Trying [3 2] E 0\n",
      "Trying [2 3] C 0\n",
      "Found  2 3\n",
      "Trying [1 2] C 1\n",
      "Trying [2 1] B 1\n",
      "Burning [[2 3]]\n",
      "Burn from [2 3]\n",
      "Trying [3 3] C 0\n",
      "Found  3 3\n",
      "Trying [1 3] D 0\n",
      "Trying [2 2] C 1\n",
      "Burning [[3 3]]\n",
      "Burn from [3 3]\n",
      "Trying [2 3] C 1\n",
      "Trying [3 2] E 0\n",
      "Burning []\n",
      "new field 4  crop D\n",
      "Burn from [1 3]\n",
      "Trying [2 3] C 1\n",
      "Trying [0 3] A 1\n",
      "Trying [1 2] C 1\n",
      "Burning []\n",
      "new field 5  crop E\n",
      "Burn from [3 0]\n",
      "Trying [3 1] E 0\n",
      "Found  3 1\n",
      "Trying [2 0] B 1\n",
      "Burning [[3 1]]\n",
      "Burn from [3 1]\n",
      "Trying [3 2] E 0\n",
      "Found  3 2\n",
      "Trying [2 1] B 1\n",
      "Trying [3 0] E 1\n",
      "Burning [[3 2]]\n",
      "Burn from [3 2]\n",
      "Trying [3 3] C 1\n",
      "Trying [2 2] C 1\n",
      "Trying [3 1] E 1\n",
      "Burning []\n"
     ]
    }
   ],
   "source": [
    "field=1\n",
    "checked=np.zeros_like(maparr,dtype=int)\n",
    "fieldmap=np.zeros_like(maparr,dtype=int)\n",
    "for x in range(dimx):\n",
    "    for y in range(dimy):\n",
    "        if checked[x,y]==0:\n",
    "            checked[x,y]=1\n",
    "            crop=maparr[x,y]\n",
    "            burn=np.array([[x,y]])\n",
    "            fieldmap[x,y]=field\n",
    "            print('new field',field,' crop', crop)\n",
    "            while len(burn)>0:\n",
    "                newburn=[]\n",
    "                for loc in burn:\n",
    "                    print('Burn from',loc)\n",
    "                    for dir in directions:\n",
    "                        if loc[0]+dir[0]>=0 and loc[1]+dir[1]>=0 and loc[0]+dir[0]<dimx and loc[1]+dir[1]<dimy:\n",
    "                            print('Trying', loc+dir,maparr[loc[0]+dir[0],loc[1]+dir[1]],checked[loc[0]+dir[0],loc[1]+dir[1]])\n",
    "                            if maparr[loc[0]+dir[0],loc[1]+dir[1]]==crop and checked[loc[0]+dir[0],loc[1]+dir[1]]==0:\n",
    "                                print('Found ',loc[0]+dir[0],loc[1]+dir[1])\n",
    "                                newburn.append(loc+dir)\n",
    "                                checked[loc[0]+dir[0],loc[1]+dir[1]]=1\n",
    "                                fieldmap[loc[0]+dir[0],loc[1]+dir[1]]=field\n",
    "                burn=np.array(newburn)\n",
    "                print('Burning',burn)\n",
    "            field+=1\n",
    "\n",
    "\n",
    "                            "
   ]
  },
  {
   "cell_type": "code",
   "execution_count": 56,
   "metadata": {},
   "outputs": [
    {
     "name": "stdout",
     "output_type": "stream",
     "text": [
      "[4 4 4 1 3] [10  8 10  4  8] 140\n"
     ]
    }
   ],
   "source": [
    "fields,areas=np.unique(fieldmap,return_counts=True)\n",
    "fences=np.zeros_like(fields)\n",
    "#Horizontal fences\n",
    "for y in range(dimy):\n",
    "    fences[fieldmap[0,y]-1]+=1\n",
    "    fences[fieldmap[-1,y]-1]+=1\n",
    "    for x in range(1,dimx):\n",
    "        if (fieldmap[x,y]!=fieldmap[x-1,y]):\n",
    "            fences[fieldmap[x,y]-1]+=1\n",
    "            fences[fieldmap[x-1,y]-1]+=1\n",
    "for x in range(dimx):\n",
    "    fences[fieldmap[x,0]-1]+=1\n",
    "    fences[fieldmap[x,-1]-1]+=1\n",
    "    for y in range(1,dimy):\n",
    "        if (fieldmap[x,y]!=fieldmap[x,y-1]):\n",
    "            fences[fieldmap[x,y]-1]+=1\n",
    "            fences[fieldmap[x,y-1]-1]+=1\n",
    "print(areas,fences,np.dot(areas,fences))"
   ]
  },
  {
   "cell_type": "code",
   "execution_count": 59,
   "metadata": {},
   "outputs": [
    {
     "name": "stdout",
     "output_type": "stream",
     "text": [
      "Corner at 1 2 C\n",
      "Corner at 1 3 D\n",
      "Corner at 2 3 D\n",
      "Corner at 3 2 C\n"
     ]
    }
   ],
   "source": [
    "corners=np.zeros_like(fields)\n",
    "#Horizontal fences\n",
    "for x in range(1,dimx):\n",
    "    for y in range(1,dimy):\n",
    "        if (fieldmap[x,y]!=fieldmap[x-1,y]):\n",
    "            if (fieldmap[x,y]!=fieldmap[x,y-1]):\n",
    "                print('Corner at',x,y,maparr[x,y])\n",
    "                corners[fieldmap[x,y]-1]+=1\n",
    "            if (fieldmap[x-1,y]!=fieldmap[x-1,y-1]):\n",
    "                print('Corner at', x,y,maparr[x-1,y])\n",
    "                corners[fieldmap[x-1,y]]+=1\n",
    "#    fences[fieldmap[0,y]-1]+=1\n",
    "#    fences[fieldmap[-1,y]-1]+=1\n",
    "#    for x in range(1,dimx):\n",
    "#        if (fieldmap[x,y]!=fieldmap[x-1,y]):\n",
    "#            fences[fieldmap[x,y]-1]+=1\n",
    "#            fences[fieldmap[x-1,y]-1]+=1\n",
    "#for x in range(dimx):\n",
    "#    fences[fieldmap[x,0]-1]+=1\n",
    "#    fences[fieldmap[x,-1]-1]+=1\n",
    "#    for y in range(1,dimy):\n",
    "#        if (fieldmap[x,y]!=fieldmap[x,y-1]):\n",
    "#            fences[fieldmap[x,y]-1]+=1\n",
    "#            fences[fieldmap[x,y-1]-1]+=1\n",
    "#print(areas,fences,np.dot(areas,fences))"
   ]
  },
  {
   "cell_type": "code",
   "execution_count": null,
   "metadata": {},
   "outputs": [],
   "source": []
  }
 ],
 "metadata": {
  "kernelspec": {
   "display_name": "venv",
   "language": "python",
   "name": "python3"
  },
  "language_info": {
   "codemirror_mode": {
    "name": "ipython",
    "version": 3
   },
   "file_extension": ".py",
   "mimetype": "text/x-python",
   "name": "python",
   "nbconvert_exporter": "python",
   "pygments_lexer": "ipython3",
   "version": "3.9.6"
  }
 },
 "nbformat": 4,
 "nbformat_minor": 2
}
