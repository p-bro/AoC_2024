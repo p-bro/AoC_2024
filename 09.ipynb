{
 "cells": [
  {
   "cell_type": "code",
   "execution_count": 1,
   "metadata": {},
   "outputs": [],
   "source": [
    "import numpy as np"
   ]
  },
  {
   "cell_type": "code",
   "execution_count": 20,
   "metadata": {},
   "outputs": [
    {
     "name": "stdout",
     "output_type": "stream",
     "text": [
      "['2', '3', '3', '3', '1', '3', '3', '1', '2', '1', '4', '1', '4', '1', '3', '1', '4', '0', '2']\n"
     ]
    }
   ],
   "source": [
    "linecount = 0\n",
    "with open('test_09.txt') as f:\n",
    "    for line in f:\n",
    "        code=list(line.strip())\n",
    "print(code)"
   ]
  },
  {
   "cell_type": "code",
   "execution_count": 21,
   "metadata": {},
   "outputs": [
    {
     "name": "stdout",
     "output_type": "stream",
     "text": [
      "42\n",
      "1928\n"
     ]
    }
   ],
   "source": [
    "fileid=0\n",
    "file=1\n",
    "blocks=[]\n",
    "chksum=0\n",
    "for instr in code:\n",
    "    if file:\n",
    "        for i in range(int(instr)):\n",
    "            blocks.append(fileid)\n",
    "        fileid +=1\n",
    "        file=0\n",
    "    else: #space\n",
    "        for i in range(int(instr)):\n",
    "            blocks.append(-1)\n",
    "        file=1\n",
    "#print(blocks)\n",
    "print(len(blocks))\n",
    "lastblock=len(blocks)-1\n",
    "for [blockct,block] in enumerate(blocks):\n",
    "    if block>-1:\n",
    "        chksum += block*blockct\n",
    "        #print (block*blockct)\n",
    "        continue\n",
    "    while (blocks[lastblock]==-1):\n",
    "        lastblock -=1\n",
    "    if lastblock<=blockct:\n",
    "        break\n",
    "    #empty cell, pull last one\n",
    "    blocks[blockct]=blocks[lastblock]\n",
    "    blocks[lastblock]=-1\n",
    "    chksum+=blocks[blockct]*blockct\n",
    "    #print(blocks[blockct]*blockct)\n",
    "#print(blocks)\n",
    "print(chksum)"
   ]
  },
  {
   "cell_type": "code",
   "execution_count": 26,
   "metadata": {},
   "outputs": [
    {
     "name": "stdout",
     "output_type": "stream",
     "text": [
      "[0, 0, 9, 3, 1, 1, 5, 3, 0, -1, -1, 2, -1, -1, -1, 3, 3, 3, -1, 4, 4, -1, 5, 5, 5, 5, -1, 6, 6, 6, 6, -1, 7, 7, 7, -1, 8, 8, 8, 8, 9, 9]\n"
     ]
    }
   ],
   "source": [
    "fileid=0\n",
    "file=1\n",
    "blocks=[]\n",
    "chksum=0\n",
    "for instr in code:\n",
    "    if file:\n",
    "        for i in range(int(instr)):\n",
    "            blocks.append(fileid)\n",
    "        fileid +=1\n",
    "        file=0\n",
    "    else: #space\n",
    "        for i in range(int(instr)):\n",
    "            blocks.append(-1)\n",
    "        file=1\n",
    "lastblock=len(blocks)-1\n",
    "filesize=0\n",
    "fileid=-1\n",
    "forwardct=0\n",
    "spacect=0\n",
    "for blockid in reversed(range(len(blocks))):\n",
    "    if blocks[blockid] == -1:\n",
    "        continue\n",
    "    if fileid==-1:\n",
    "        fileid=blocks[blockid]\n",
    "    if blocks[blockid]==fileid:\n",
    "        filesize+=1\n",
    "        continue\n",
    "    while (spacect<filesize):\n",
    "        while (blocks[forwardct]>-1):\n",
    "            forwardct +=1\n",
    "            if forwardct > blockid:\n",
    "                continue\n",
    "        while (blocks[forwardct]==-1):\n",
    "            spacect +=1\n",
    "            forwardct +=1\n",
    "            if forwardct > blockid: \n",
    "                continue\n",
    "    if spacect>=filesize:\n",
    "        forwardct-=spacect #first space\n",
    "        for i in range(filesize):\n",
    "            blocks[forwardct]=blocks[blockid+i]\n",
    "    forwardct=0\n",
    "    filesize=0\n",
    "    spacect=0\n",
    "    fileid=-1\n",
    "print(blocks)\n"
   ]
  },
  {
   "cell_type": "code",
   "execution_count": null,
   "metadata": {},
   "outputs": [],
   "source": []
  }
 ],
 "metadata": {
  "kernelspec": {
   "display_name": "Python 3",
   "language": "python",
   "name": "python3"
  },
  "language_info": {
   "codemirror_mode": {
    "name": "ipython",
    "version": 3
   },
   "file_extension": ".py",
   "mimetype": "text/x-python",
   "name": "python",
   "nbconvert_exporter": "python",
   "pygments_lexer": "ipython3",
   "version": "3.12.7"
  }
 },
 "nbformat": 4,
 "nbformat_minor": 2
}
