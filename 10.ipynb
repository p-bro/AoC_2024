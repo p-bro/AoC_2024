{
 "cells": [
  {
   "cell_type": "code",
   "execution_count": 12,
   "metadata": {},
   "outputs": [],
   "source": [
    "import numpy as np\n",
    "directions=np.array([[1,0],[0,1],[-1,0],[0,-1]])"
   ]
  },
  {
   "cell_type": "code",
   "execution_count": 13,
   "metadata": {},
   "outputs": [
    {
     "name": "stdout",
     "output_type": "stream",
     "text": [
      "4 4 [[0 1 2 3]\n",
      " [1 2 3 4]\n",
      " [8 7 6 5]\n",
      " [9 8 7 6]]\n"
     ]
    }
   ],
   "source": [
    "area=[]\n",
    "linecount = 0\n",
    "with open('test_10a.txt') as f:\n",
    "    for line in f:\n",
    "        area.append(list(map(int,line.strip())))\n",
    "maparr=np.array(area)\n",
    "dimx=maparr.shape[0]\n",
    "dimy=maparr.shape[1]\n",
    "print(dimx,dimy,maparr)"
   ]
  },
  {
   "cell_type": "code",
   "execution_count": 14,
   "metadata": {},
   "outputs": [
    {
     "name": "stdout",
     "output_type": "stream",
     "text": [
      "[[0 0]]\n"
     ]
    }
   ],
   "source": [
    "#Find trailheads\n",
    "[thx,thy]=np.where(maparr==0)\n",
    "ths=np.array([thx,thy]).transpose()\n",
    "print(ths)"
   ]
  },
  {
   "cell_type": "code",
   "execution_count": 28,
   "metadata": {},
   "outputs": [
    {
     "name": "stdout",
     "output_type": "stream",
     "text": [
      "Trailhead [0 0]\n",
      "Altitude 1\n",
      "Altitude 1 Locations [[0 1]\n",
      " [1 0]]\n",
      "Altitude 2\n",
      "Altitude 2 Locations [[0 2]\n",
      " [1 1]]\n",
      "Altitude 3\n",
      "Altitude 3 Locations [[0 3]\n",
      " [1 2]]\n",
      "Altitude 4\n",
      "Altitude 4 Locations [[1 3]]\n",
      "Altitude 5\n",
      "Altitude 5 Locations [[2 3]]\n",
      "Altitude 6\n",
      "Altitude 6 Locations [[2 2]\n",
      " [3 3]]\n",
      "Altitude 7\n",
      "Altitude 7 Locations [[2 1]\n",
      " [3 2]]\n",
      "Altitude 8\n",
      "Altitude 8 Locations [[2 0]\n",
      " [3 1]]\n",
      "Altitude 9\n",
      "Altitude 9 Locations [[3 0]]\n",
      "Peaks 1\n"
     ]
    }
   ],
   "source": [
    "peaks=0\n",
    "for th in ths:\n",
    "    print('Trailhead',th)\n",
    "    locs=np.array([th])\n",
    "    for alt in range(1,10):\n",
    "        print('Altitude', alt)\n",
    "        climb=[]\n",
    "        for loc in locs:\n",
    "            #print('Location', loc)\n",
    "            for dir in directions:\n",
    "                #print ('direction', dir)\n",
    "                if loc[0]+dir[0]>=0 and loc[1]+dir[1]>=0 and loc[0]+dir[0]<dimx and loc[1]+dir[1]<dimy:\n",
    "                    if maparr[loc[0]+dir[0],loc[1]+dir[1]]==alt:\n",
    "                        #print(alt,loc+dir)\n",
    "                        climb.append(loc+dir)\n",
    "        locs=np.array(np.unique(climb,axis=0))\n",
    "        print('Altitude',alt,'Locations',locs)\n",
    "    peaks += locs.shape[0]\n",
    "print('Peaks',peaks)"
   ]
  },
  {
   "cell_type": "code",
   "execution_count": null,
   "metadata": {},
   "outputs": [],
   "source": []
  }
 ],
 "metadata": {
  "kernelspec": {
   "display_name": "Python 3",
   "language": "python",
   "name": "python3"
  },
  "language_info": {
   "codemirror_mode": {
    "name": "ipython",
    "version": 3
   },
   "file_extension": ".py",
   "mimetype": "text/x-python",
   "name": "python",
   "nbconvert_exporter": "python",
   "pygments_lexer": "ipython3",
   "version": "3.12.8"
  }
 },
 "nbformat": 4,
 "nbformat_minor": 2
}
