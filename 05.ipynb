{
 "cells": [
  {
   "cell_type": "code",
   "execution_count": 1,
   "metadata": {},
   "outputs": [],
   "source": [
    "import numpy as np"
   ]
  },
  {
   "cell_type": "code",
   "execution_count": null,
   "metadata": {},
   "outputs": [],
   "source": [
    "rules=[]\n",
    "orders=[]\n",
    "with open('input_05.txt') as f:\n",
    "    for line in f:\n",
    "        if len(line)<2: #blank lines separate rules from updates\n",
    "            break\n",
    "        rules.append(list(line.strip()))\n",
    "    for line in f:\n",
    "        orders.append(list(line.strip()))\n",
    "print(rules)\n",
    "print(orders)"
   ]
  }
 ],
 "metadata": {
  "kernelspec": {
   "display_name": "Python 3",
   "language": "python",
   "name": "python3"
  },
  "language_info": {
   "codemirror_mode": {
    "name": "ipython",
    "version": 3
   },
   "file_extension": ".py",
   "mimetype": "text/x-python",
   "name": "python",
   "nbconvert_exporter": "python",
   "pygments_lexer": "ipython3",
   "version": "3.12.7"
  }
 },
 "nbformat": 4,
 "nbformat_minor": 2
}
